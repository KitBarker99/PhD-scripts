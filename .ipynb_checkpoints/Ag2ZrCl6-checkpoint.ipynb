{
 "cells": [
  {
   "cell_type": "markdown",
   "metadata": {},
   "source": [
    "# Introduction\n",
    "\n",
    "This notebook demonstrates how to perform phase and electrochemical assessments starting from a VASP calculation using Python Materials Genomics (pymatgen) and the Materials Project database (via the Materials API). These notebooks are described in detail in\n",
    "\n",
    "    Deng, Z.; Zhu, Z.; Chu, I.-H.; Ong, S. P. Data-Driven First-Principles Methods for the Study and Design of \n",
    "    Alkali Superionic Conductors. Chem. Mater. 2017, 29 (1), 281–288 DOI: 10.1021/acs.chemmater.6b02648.\n",
    "    \n",
    "If you find these notebooks useful and use the functionality demonstrated, please consider citing the above work.\n",
    "\n",
    "Let's start by importing some modules and classes that we will be using."
   ]
  },
  {
   "cell_type": "code",
   "execution_count": 4,
   "metadata": {},
   "outputs": [
    {
     "ename": "ImportError",
     "evalue": "cannot import name 'Composition' from 'pymatgen.ext.matproj' (C:\\Users\\User\\anaconda3\\Lib\\site-packages\\pymatgen\\ext\\matproj.py)",
     "output_type": "error",
     "traceback": [
      "\u001b[1;31m---------------------------------------------------------------------------\u001b[0m",
      "\u001b[1;31mImportError\u001b[0m                               Traceback (most recent call last)",
      "Cell \u001b[1;32mIn[4], line 4\u001b[0m\n\u001b[0;32m      1\u001b[0m get_ipython()\u001b[38;5;241m.\u001b[39mrun_line_magic(\u001b[38;5;124m'\u001b[39m\u001b[38;5;124mmatplotlib\u001b[39m\u001b[38;5;124m'\u001b[39m, \u001b[38;5;124m'\u001b[39m\u001b[38;5;124minline\u001b[39m\u001b[38;5;124m'\u001b[39m)\n\u001b[0;32m      3\u001b[0m \u001b[38;5;28;01mfrom\u001b[39;00m \u001b[38;5;21;01mpymatgen\u001b[39;00m\u001b[38;5;21;01m.\u001b[39;00m\u001b[38;5;21;01manalysis\u001b[39;00m\u001b[38;5;21;01m.\u001b[39;00m\u001b[38;5;21;01mreaction_calculator\u001b[39;00m \u001b[38;5;28;01mimport\u001b[39;00m Reaction\n\u001b[1;32m----> 4\u001b[0m \u001b[38;5;28;01mfrom\u001b[39;00m \u001b[38;5;21;01mpymatgen\u001b[39;00m\u001b[38;5;21;01m.\u001b[39;00m\u001b[38;5;21;01mext\u001b[39;00m\u001b[38;5;21;01m.\u001b[39;00m\u001b[38;5;21;01mmatproj\u001b[39;00m \u001b[38;5;28;01mimport\u001b[39;00m MPRester, Composition, Element\n\u001b[0;32m      5\u001b[0m \u001b[38;5;28;01mfrom\u001b[39;00m \u001b[38;5;21;01mpymatgen\u001b[39;00m\u001b[38;5;21;01m.\u001b[39;00m\u001b[38;5;21;01mio\u001b[39;00m\u001b[38;5;21;01m.\u001b[39;00m\u001b[38;5;21;01mvasp\u001b[39;00m \u001b[38;5;28;01mimport\u001b[39;00m Vasprun\n\u001b[0;32m      6\u001b[0m \u001b[38;5;28;01mfrom\u001b[39;00m \u001b[38;5;21;01mpymatgen\u001b[39;00m\u001b[38;5;21;01m.\u001b[39;00m\u001b[38;5;21;01manalysis\u001b[39;00m\u001b[38;5;21;01m.\u001b[39;00m\u001b[38;5;21;01mphase_diagram\u001b[39;00m \u001b[38;5;28;01mimport\u001b[39;00m PhaseDiagram, CompoundPhaseDiagram, PDEntry, GrandPotentialPhaseDiagram\n",
      "\u001b[1;31mImportError\u001b[0m: cannot import name 'Composition' from 'pymatgen.ext.matproj' (C:\\Users\\User\\anaconda3\\Lib\\site-packages\\pymatgen\\ext\\matproj.py)"
     ]
    }
   ],
   "source": [
    "%matplotlib inline\n",
    "\n",
    "from pymatgen.analysis.reaction_calculator import Reaction\n",
    "from pymatgen.ext.matproj import MPRester, Composition, Element\n",
    "from pymatgen.io.vasp import Vasprun\n",
    "from pymatgen.analysis.phase_diagram import PhaseDiagram, CompoundPhaseDiagram, PDEntry, GrandPotentialPhaseDiagram\n",
    "#from pymatgen.phasediagram.analyzer import PDAnalyzer\n",
    "from pymatgen.analysis.phase_diagram import PDPlotter\n",
    "from pymatgen.entries.computed_entries import ComputedEntry\n",
    "from pymatgen.entries.compatibility import MaterialsProjectCompatibility\n",
    "import pymatgen.util.plotting as plty\n",
    "#import palettable.colorbrewer.diverging\n",
    "import json\n",
    "import re\n",
    "import palettable\n",
    "import matplotlib as mpl\n",
    "from pymatgen.ext.cod import COD\n",
    "cod = COD()\n",
    "\n",
    "\n",
    "\n"
   ]
  },
  {
   "cell_type": "markdown",
   "metadata": {},
   "source": [
    "# Preparation\n",
    "\n",
    "We will first read the results from the *vasprun.xml* output file from our VASP calculations. Only the lowest energy result is used here."
   ]
  },
  {
   "cell_type": "code",
   "execution_count": 3,
   "metadata": {},
   "outputs": [
    {
     "name": "stderr",
     "output_type": "stream",
     "text": [
      "C:\\Users\\Kit\\anaconda3\\Lib\\site-packages\\pymatgen\\io\\vasp\\inputs.py:1806: UnknownPotcarWarning: POTCAR data with symbol Zr_sv does not match any VASP POTCAR known to pymatgen. There is a possibility your POTCAR is corrupted or that the pymatgen database is incomplete.\n",
      "  warnings.warn(\n",
      "C:\\Users\\Kit\\anaconda3\\Lib\\site-packages\\pymatgen\\io\\vasp\\inputs.py:1806: UnknownPotcarWarning: POTCAR data with symbol Cu_pv does not match any VASP POTCAR known to pymatgen. There is a possibility your POTCAR is corrupted or that the pymatgen database is incomplete.\n",
      "  warnings.warn(\n",
      "C:\\Users\\Kit\\anaconda3\\Lib\\site-packages\\pymatgen\\io\\vasp\\inputs.py:1806: UnknownPotcarWarning: POTCAR data with symbol Cl does not match any VASP POTCAR known to pymatgen. There is a possibility your POTCAR is corrupted or that the pymatgen database is incomplete.\n",
      "  warnings.warn(\n"
     ]
    }
   ],
   "source": [
    "vasprun = Vasprun(\"./vasprun.xml\")\n",
    "# include structure so proper correction can be applied for oxides and sulfides\n",
    "entry = vasprun.get_computed_entry(inc_structure=True)  \n"
   ]
  },
  {
   "cell_type": "markdown",
   "metadata": {},
   "source": [
    "To construct the phase diagram, we need all entries in the Li-Al-O chemical space. We will use the *MPRester* class to obtain these entries from the Materials Project via the Materials API."
   ]
  },
  {
   "cell_type": "code",
   "execution_count": null,
   "metadata": {},
   "outputs": [],
   "source": [
    "rester = MPRester(\"sn6cPXSgdTIO9HfC\")\n",
    "mp_entries = rester.get_entries_in_chemsys([\"Ag\", \"Zr\", \"Cl\"])"
   ]
  },
  {
   "cell_type": "markdown",
   "metadata": {},
   "source": [
    "In addition to all the MP entries, here we also load the computed entries of Li-Al-O tenary compounds."
   ]
  },
  {
   "cell_type": "markdown",
   "metadata": {},
   "source": [
    "Next, we need to combine all the entries and postprocess them using *MaterialsProjectCompatibility*. This postprocessing step corrects the energies to account for well-known DFT errors, e.g., in the sulfur binding energy."
   ]
  },
  {
   "cell_type": "code",
   "execution_count": null,
   "metadata": {},
   "outputs": [],
   "source": [
    "compatibility = MaterialsProjectCompatibility()\n",
    "entry = compatibility.process_entry(entry)\n",
    "entries = compatibility.process_entries([entry] + mp_entries )"
   ]
  },
  {
   "cell_type": "markdown",
   "metadata": {
    "collapsed": true
   },
   "source": [
    "# Phase diagram construction\n",
    "\n",
    "The phase diagram can then be constructed using the *PhaseDiagram* class, and plotted using the *PDPlotter* class."
   ]
  },
  {
   "cell_type": "code",
   "execution_count": null,
   "metadata": {
    "scrolled": true
   },
   "outputs": [],
   "source": [
    "pd = PhaseDiagram(entries)\n",
    "plotter = PDPlotter(pd)\n",
    "plotter.show()"
   ]
  },
  {
   "cell_type": "markdown",
   "metadata": {},
   "source": []
  },
  {
   "cell_type": "markdown",
   "metadata": {},
   "source": [
    "##### Calculating $E_{\\rm hull}$ of LiAl5O8\n",
    "\n",
    "We may evaluate the $E_{\\rm hull}$ of LiAl5O8 using the *PDAnalyzer*."
   ]
  },
  {
   "cell_type": "code",
   "execution_count": null,
   "metadata": {},
   "outputs": [],
   "source": [
    "ehull = pd.get_e_above_hull(entry)\n",
    "print(\"The energy above hull of Ag2ZrCl6 is %.3f eV/atom.\" % ehull)"
   ]
  },
  {
   "cell_type": "markdown",
   "metadata": {
    "collapsed": true
   },
   "source": [
    "# Electrochemical Stability\n",
    "\n",
    "The electrochemical stability can be assessed using a similar phase diagram approach, but using the lithium grand potential instead of the internal energy.\n",
    "\n",
    "First, we need to identify a reference for lithium chemical potential using the bulk Li energy $\\mu_{\\rm Li}^0$."
   ]
  },
  {
   "cell_type": "code",
   "execution_count": 3,
   "metadata": {},
   "outputs": [
    {
     "ename": "NameError",
     "evalue": "name 'entries' is not defined",
     "output_type": "error",
     "traceback": [
      "\u001b[1;31m---------------------------------------------------------------------------\u001b[0m",
      "\u001b[1;31mNameError\u001b[0m                                 Traceback (most recent call last)",
      "Cell \u001b[1;32mIn[3], line 1\u001b[0m\n\u001b[1;32m----> 1\u001b[0m Ag_entries \u001b[38;5;241m=\u001b[39m [e \u001b[38;5;28;01mfor\u001b[39;00m e \u001b[38;5;129;01min\u001b[39;00m entries \u001b[38;5;28;01mif\u001b[39;00m e\u001b[38;5;241m.\u001b[39mcomposition\u001b[38;5;241m.\u001b[39mreduced_formula \u001b[38;5;241m==\u001b[39m \u001b[38;5;124m\"\u001b[39m\u001b[38;5;124mAg\u001b[39m\u001b[38;5;124m\"\u001b[39m]\n\u001b[0;32m      2\u001b[0m uAg0 \u001b[38;5;241m=\u001b[39m \u001b[38;5;28mmin\u001b[39m(Ag_entries, key\u001b[38;5;241m=\u001b[39m\u001b[38;5;28;01mlambda\u001b[39;00m e: e\u001b[38;5;241m.\u001b[39menergy_per_atom)\u001b[38;5;241m.\u001b[39menergy_per_atom\n",
      "\u001b[1;31mNameError\u001b[0m: name 'entries' is not defined"
     ]
    }
   ],
   "source": [
    "Ag_entries = [e for e in entries if e.composition.reduced_formula == \"Ag\"]\n",
    "uAg0 = min(Ag_entries, key=lambda e: e.energy_per_atom).energy_per_atom"
   ]
  },
  {
   "cell_type": "markdown",
   "metadata": {},
   "source": [
    "##### The *PDAnalyzer* class provides a quick way to plot the phase diagram at a particular composition (e.g., LiAl5O8) as a function of lithium chemical potential called *get_element_profile*."
   ]
  },
  {
   "cell_type": "code",
   "execution_count": 9,
   "metadata": {},
   "outputs": [
    {
     "name": "stdout",
     "output_type": "stream",
     "text": [
      "Voltage: -0.0 V\n",
      "3 Zr(CuCl3)2 -> 3 Zr(CuCl3)2\n",
      "\n",
      "Voltage: 0.08303066499999634 V\n",
      "3 Zr(CuCl3)2 -> 3 CuCl2 + 3 ZrCl4 + 3 Cu\n",
      "\n",
      "Voltage: 2.7115107865200008 V\n",
      "3 Zr(CuCl3)2 -> 3 ZrCl4 + 3 Cl2 + 6 Cu\n",
      "\n"
     ]
    }
   ],
   "source": [
    "el_profile = pd.get_element_profile(Element(\"Cu\"), entry.composition)\n",
    "for i, d in enumerate(el_profile):\n",
    "    voltage = -(d[\"chempot\"] - uCu0)\n",
    "    print(\"Voltage: %s V\" % voltage)\n",
    "    print(d[\"reaction\"])\n",
    "    print(\"\")"
   ]
  },
  {
   "cell_type": "markdown",
   "metadata": {},
   "source": [
    "This element profile can be plotted as a Li evolution versus voltage using matplotlib as follows."
   ]
  },
  {
   "cell_type": "code",
   "execution_count": 16,
   "metadata": {},
   "outputs": [
    {
     "ename": "AttributeError",
     "evalue": "'Axes' object has no attribute 'xlim'",
     "output_type": "error",
     "traceback": [
      "\u001b[1;31m---------------------------------------------------------------------------\u001b[0m",
      "\u001b[1;31mAttributeError\u001b[0m                            Traceback (most recent call last)",
      "Cell \u001b[1;32mIn[16], line 43\u001b[0m\n\u001b[0;32m     40\u001b[0m     \u001b[38;5;28;01melse\u001b[39;00m:\n\u001b[0;32m     41\u001b[0m         plt\u001b[38;5;241m.\u001b[39mplot([x1, x2], [y1, y1], \u001b[38;5;124m'\u001b[39m\u001b[38;5;124mk\u001b[39m\u001b[38;5;124m'\u001b[39m, linewidth\u001b[38;5;241m=\u001b[39m\u001b[38;5;241m3\u001b[39m)  \n\u001b[1;32m---> 43\u001b[0m plt\u001b[38;5;241m.\u001b[39mxlim((\u001b[38;5;241m0\u001b[39m, \u001b[38;5;241m6.0\u001b[39m))\n\u001b[0;32m     44\u001b[0m plt\u001b[38;5;241m.\u001b[39mylim((\u001b[38;5;241m-\u001b[39m\u001b[38;5;241m4\u001b[39m, \u001b[38;5;241m30\u001b[39m))\n\u001b[0;32m     45\u001b[0m plt\u001b[38;5;241m.\u001b[39mxlabel(\u001b[38;5;124m\"\u001b[39m\u001b[38;5;124mVoltage vs Cu/Cu$^+$ for Cu2ZrCl6  (V)\u001b[39m\u001b[38;5;124m\"\u001b[39m)\n",
      "\u001b[1;31mAttributeError\u001b[0m: 'Axes' object has no attribute 'xlim'"
     ]
    },
    {
     "data": {
      "image/png": "[encoded data removed]",
      "text/plain": [
       "<Figure size 1200x800 with 1 Axes>"
      ]
     },
     "metadata": {},
     "output_type": "display_data"
    }
   ],
   "source": [
    "# Some matplotlib settings to improve the look of the plot.\n",
    "mpl.rcParams['axes.linewidth']=3\n",
    "mpl.rcParams['lines.markeredgewidth']=4\n",
    "mpl.rcParams['lines.linewidth']=3\n",
    "mpl.rcParams['lines.markersize']=15\n",
    "mpl.rcParams['xtick.major.width']=3\n",
    "mpl.rcParams['xtick.major.size']=8\n",
    "mpl.rcParams['xtick.minor.width']=3\n",
    "mpl.rcParams['xtick.minor.size']=4\n",
    "mpl.rcParams['ytick.major.width']=3\n",
    "mpl.rcParams['ytick.major.size']=8\n",
    "mpl.rcParams['ytick.minor.width']=3\n",
    "mpl.rcParams['ytick.minor.size']=4\n",
    "\n",
    "\n",
    "# Plot of Na uptake per formula unit (f.u.) of Na2ZrCl6 against voltage vs Na/Na+.\n",
    "\n",
    "colors = palettable.colorbrewer.qualitative.Set1_9.mpl_colors\n",
    "plt = plty.pretty_plot(12, 8)\n",
    "\n",
    "for i, d in enumerate(el_profile):\n",
    "    v = - (d[\"chempot\"] - uCu0)\n",
    "    if i != 0:\n",
    "        plt.plot([x2, x2], [y1, d[\"evolution\"] / 4.0], 'k', linewidth=3)\n",
    "    x1 = v\n",
    "    y1 = d[\"evolution\"] / 4.0\n",
    "    if i != len(el_profile) - 1:\n",
    "        x2 = - (el_profile[i + 1][\"chempot\"] - uCu0)\n",
    "    else:\n",
    "        x2 = 5.0\n",
    "        \n",
    "    if i in [0, 4, 5, 7]:\n",
    "        products = [re.sub(r\"(\\d+)\", r\"$_{\\1}$\", p.reduced_formula)                     \n",
    "                    for p in d[\"reaction\"].products if p.reduced_formula != \"Cu\"]\n",
    "\n",
    "        plt.annotate(\", \".join(products), xy=(v + 0.05, y1 + 0.3), \n",
    "                     fontsize=24, color=colors[0])\n",
    "        \n",
    "        plt.plot([x1, x2], [y1, y1], color=colors[0], linewidth=5)\n",
    "    else:\n",
    "        plt.plot([x1, x2], [y1, y1], 'k', linewidth=3)  \n",
    "\n",
    "plt.xlim((0, 6.0))\n",
    "plt.ylim((-4, 30))\n",
    "plt.xlabel(\"Voltage vs Cu/Cu$^+$ for Cu2ZrCl6  (V)\")\n",
    "plt.ylabel(\"Cu uptake per f.u.\")\n",
    "plt.tight_layout()"
   ]
  },
  {
   "cell_type": "code",
   "execution_count": null,
   "metadata": {},
   "outputs": [],
   "source": []
  }
 ],
 "metadata": {
  "kernelspec": {
   "display_name": "Python 3 (ipykernel)",
   "language": "python",
   "name": "python3"
  },
  "language_info": {
   "codemirror_mode": {
    "name": "ipython",
    "version": 3
   },
   "file_extension": ".py",
   "mimetype": "text/x-python",
   "name": "python",
   "nbconvert_exporter": "python",
   "pygments_lexer": "ipython3",
   "version": "3.11.5"
  }
 },
 "nbformat": 4,
 "nbformat_minor": 1
}
