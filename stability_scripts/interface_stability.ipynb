{
 "cells": [
  {
   "cell_type": "markdown",
   "metadata": {},
   "source": [
    "# Introduction\n",
    "\n",
    "This notebook demonstrates how to perform phase and electrochemical assessments starting from a VASP calculation using Python Materials Genomics (pymatgen) and the Materials Project database (via the Materials API). These notebooks are described in detail in\n",
    "\n",
    "    Deng, Z.; Zhu, Z.; Chu, I.-H.; Ong, S. P. Data-Driven First-Principles Methods for the Study and Design of \n",
    "    Alkali Superionic Conductors. Chem. Mater. 2017, 29 (1), 281–288 DOI: 10.1021/acs.chemmater.6b02648.\n",
    "    \n",
    "If you find these notebooks useful and use the functionality demonstrated, please consider citing the above work.\n",
    "\n",
    "Let's start by importing some modules and classes that we will be using."
   ]
  },
  {
   "cell_type": "code",
   "execution_count": 3,
   "metadata": {},
   "outputs": [],
   "source": [
    "%matplotlib inline\n",
    "\n",
    "from pymatgen.analysis.reaction_calculator import Reaction\n",
    "from pymatgen.ext.matproj import MPRester, Composition, Element\n",
    "from pymatgen.io.vasp import Vasprun\n",
    "from pymatgen.analysis.phase_diagram import PhaseDiagram, CompoundPhaseDiagram, PDEntry, GrandPotentialPhaseDiagram\n",
    "#from pymatgen.phasediagram.analyzer import PDAnalyzer\n",
    "from pymatgen.analysis.phase_diagram import PDPlotter\n",
    "from pymatgen.entries.computed_entries import ComputedEntry\n",
    "from pymatgen.entries.compatibility import MaterialsProjectCompatibility\n",
    "import pymatgen.util.plotting as plty\n",
    "#import palettable.colorbrewer.diverging\n",
    "import json\n",
    "import re\n",
    "import palettable\n",
    "import matplotlib as mpl\n",
    "from pymatgen.ext.cod import COD\n",
    "cod = COD()\n",
    "\n",
    "\n",
    "\n"
   ]
  },
  {
   "cell_type": "markdown",
   "metadata": {},
   "source": [
    "# Preparation\n",
    "\n",
    "We will first read the results from the *vasprun.xml* output file from our VASP calculations. Only the lowest energy result is used here."
   ]
  },
  {
   "cell_type": "code",
   "execution_count": 4,
   "metadata": {},
   "outputs": [
    {
     "ename": "FileNotFoundError",
     "evalue": "[Errno 2] No such file or directory: './vasprun.xml'",
     "output_type": "error",
     "traceback": [
      "\u001b[1;31m---------------------------------------------------------------------------\u001b[0m",
      "\u001b[1;31mFileNotFoundError\u001b[0m                         Traceback (most recent call last)",
      "\u001b[1;32m~\\AppData\\Local\\Temp/ipykernel_3264/98577108.py\u001b[0m in \u001b[0;36m<module>\u001b[1;34m\u001b[0m\n\u001b[1;32m----> 1\u001b[1;33m \u001b[0mvasprun\u001b[0m \u001b[1;33m=\u001b[0m \u001b[0mVasprun\u001b[0m\u001b[1;33m(\u001b[0m\u001b[1;34m\"./vasprun.xml\"\u001b[0m\u001b[1;33m)\u001b[0m\u001b[1;33m\u001b[0m\u001b[1;33m\u001b[0m\u001b[0m\n\u001b[0m\u001b[0;32m      2\u001b[0m \u001b[1;31m# include structure so proper correction can be applied for oxides and sulfides\u001b[0m\u001b[1;33m\u001b[0m\u001b[1;33m\u001b[0m\u001b[1;33m\u001b[0m\u001b[0m\n\u001b[0;32m      3\u001b[0m \u001b[0mentry\u001b[0m \u001b[1;33m=\u001b[0m \u001b[0mvasprun\u001b[0m\u001b[1;33m.\u001b[0m\u001b[0mget_computed_entry\u001b[0m\u001b[1;33m(\u001b[0m\u001b[0minc_structure\u001b[0m\u001b[1;33m=\u001b[0m\u001b[1;32mTrue\u001b[0m\u001b[1;33m)\u001b[0m\u001b[1;33m\u001b[0m\u001b[1;33m\u001b[0m\u001b[0m\n",
      "\u001b[1;32m~\\anaconda3\\lib\\site-packages\\pymatgen\\io\\vasp\\outputs.py\u001b[0m in \u001b[0;36m__init__\u001b[1;34m(self, filename, ionic_step_skip, ionic_step_offset, parse_dos, parse_eigen, parse_projected_eigen, parse_potcar_file, occu_tol, exception_on_bad_xml)\u001b[0m\n\u001b[0;32m    330\u001b[0m         \u001b[0mself\u001b[0m\u001b[1;33m.\u001b[0m\u001b[0mexception_on_bad_xml\u001b[0m \u001b[1;33m=\u001b[0m \u001b[0mexception_on_bad_xml\u001b[0m\u001b[1;33m\u001b[0m\u001b[1;33m\u001b[0m\u001b[0m\n\u001b[0;32m    331\u001b[0m \u001b[1;33m\u001b[0m\u001b[0m\n\u001b[1;32m--> 332\u001b[1;33m         \u001b[1;32mwith\u001b[0m \u001b[0mzopen\u001b[0m\u001b[1;33m(\u001b[0m\u001b[0mfilename\u001b[0m\u001b[1;33m,\u001b[0m \u001b[1;34m\"rt\"\u001b[0m\u001b[1;33m)\u001b[0m \u001b[1;32mas\u001b[0m \u001b[0mf\u001b[0m\u001b[1;33m:\u001b[0m\u001b[1;33m\u001b[0m\u001b[1;33m\u001b[0m\u001b[0m\n\u001b[0m\u001b[0;32m    333\u001b[0m             \u001b[1;32mif\u001b[0m \u001b[0mionic_step_skip\u001b[0m \u001b[1;32mor\u001b[0m \u001b[0mionic_step_offset\u001b[0m\u001b[1;33m:\u001b[0m\u001b[1;33m\u001b[0m\u001b[1;33m\u001b[0m\u001b[0m\n\u001b[0;32m    334\u001b[0m                 \u001b[1;31m# remove parts of the xml file and parse the string\u001b[0m\u001b[1;33m\u001b[0m\u001b[1;33m\u001b[0m\u001b[1;33m\u001b[0m\u001b[0m\n",
      "\u001b[1;32m~\\anaconda3\\lib\\site-packages\\monty\\io.py\u001b[0m in \u001b[0;36mzopen\u001b[1;34m(filename, *args, **kwargs)\u001b[0m\n\u001b[0;32m     41\u001b[0m     \u001b[1;32mif\u001b[0m \u001b[0mext\u001b[0m \u001b[1;32min\u001b[0m \u001b[1;33m(\u001b[0m\u001b[1;34m\".GZ\"\u001b[0m\u001b[1;33m,\u001b[0m \u001b[1;34m\".Z\"\u001b[0m\u001b[1;33m)\u001b[0m\u001b[1;33m:\u001b[0m\u001b[1;33m\u001b[0m\u001b[1;33m\u001b[0m\u001b[0m\n\u001b[0;32m     42\u001b[0m         \u001b[1;32mreturn\u001b[0m \u001b[0mgzip\u001b[0m\u001b[1;33m.\u001b[0m\u001b[0mopen\u001b[0m\u001b[1;33m(\u001b[0m\u001b[0mfilename\u001b[0m\u001b[1;33m,\u001b[0m \u001b[1;33m*\u001b[0m\u001b[0margs\u001b[0m\u001b[1;33m,\u001b[0m \u001b[1;33m**\u001b[0m\u001b[0mkwargs\u001b[0m\u001b[1;33m)\u001b[0m\u001b[1;33m\u001b[0m\u001b[1;33m\u001b[0m\u001b[0m\n\u001b[1;32m---> 43\u001b[1;33m     \u001b[1;32mreturn\u001b[0m \u001b[0mio\u001b[0m\u001b[1;33m.\u001b[0m\u001b[0mopen\u001b[0m\u001b[1;33m(\u001b[0m\u001b[0mfilename\u001b[0m\u001b[1;33m,\u001b[0m \u001b[1;33m*\u001b[0m\u001b[0margs\u001b[0m\u001b[1;33m,\u001b[0m \u001b[1;33m**\u001b[0m\u001b[0mkwargs\u001b[0m\u001b[1;33m)\u001b[0m\u001b[1;33m\u001b[0m\u001b[1;33m\u001b[0m\u001b[0m\n\u001b[0m\u001b[0;32m     44\u001b[0m \u001b[1;33m\u001b[0m\u001b[0m\n\u001b[0;32m     45\u001b[0m \u001b[1;33m\u001b[0m\u001b[0m\n",
      "\u001b[1;31mFileNotFoundError\u001b[0m: [Errno 2] No such file or directory: './vasprun.xml'"
     ]
    }
   ],
   "source": [
    "vasprun = Vasprun(\"./vasprun.xml\")\n",
    "# include structure so proper correction can be applied for oxides and sulfides\n",
    "entry = vasprun.get_computed_entry(inc_structure=True)  \n"
   ]
  },
  {
   "cell_type": "markdown",
   "metadata": {},
   "source": [
    "To construct the phase diagram, we need all entries in the compounds chemical space. We will use the *MPRester* class to obtain these entries from the Materials Project via the Materials API."
   ]
  },
  {
   "cell_type": "code",
   "execution_count": null,
   "metadata": {},
   "outputs": [],
   "source": [
    "rester = MPRester(\"api_key\")\n",
    "mp_entries = rester.get_entries_in_chemsys([\"Li\", \"In\", \"Cl\"])"
   ]
  },
  {
   "cell_type": "markdown",
   "metadata": {},
   "source": [
    "In addition to all the MP entries, here we also load the computed entries of Li-Al-O tenary compounds."
   ]
  },
  {
   "cell_type": "markdown",
   "metadata": {},
   "source": [
    "Next, we need to combine all the entries and postprocess them using *MaterialsProjectCompatibility*. This postprocessing step corrects the energies to account for well-known DFT errors, e.g., in the sulfur binding energy."
   ]
  },
  {
   "cell_type": "code",
   "execution_count": null,
   "metadata": {},
   "outputs": [],
   "source": [
    "compatibility = MaterialsProjectCompatibility()\n",
    "entry = compatibility.process_entry(entry)\n",
    "entries = compatibility.process_entries([entry] + mp_entries )"
   ]
  },
  {
   "cell_type": "markdown",
   "metadata": {
    "collapsed": true
   },
   "source": [
    "# Phase diagram construction\n",
    "\n",
    "The phase diagram can then be constructed using the *PhaseDiagram* class, and plotted using the *PDPlotter* class."
   ]
  },
  {
   "cell_type": "code",
   "execution_count": null,
   "metadata": {
    "scrolled": true
   },
   "outputs": [],
   "source": [
    "pd = PhaseDiagram(entries)\n",
    "plotter = PDPlotter(pd)\n",
    "plotter.show()"
   ]
  },
  {
   "cell_type": "markdown",
   "metadata": {},
   "source": []
  },
  {
   "cell_type": "markdown",
   "metadata": {},
   "source": [
    "##### Calculating $E_{\\rm hull}$ of Structure\n",
    "\n",
    "We may evaluate the $E_{\\rm hull}$ of the structure using the *PDAnalyzer*."
   ]
  },
  {
   "cell_type": "code",
   "execution_count": null,
   "metadata": {},
   "outputs": [],
   "source": [
    "ehull = pd.get_e_above_hull(entry)\n",
    "print(\"The energy above hull is %.3f eV/atom.\" % ehull)"
   ]
  },
  {
   "cell_type": "markdown",
   "metadata": {
    "collapsed": true
   },
   "source": [
    "# Electrochemical Stability\n",
    "\n",
    "The electrochemical stability can be assessed using a similar phase diagram approach, but using the lithium grand potential instead of the internal energy.\n",
    "\n",
    "First, we need to identify a reference for lithium chemical potential using the bulk Li energy $\\mu_{\\rm Li}^0$."
   ]
  },
  {
   "cell_type": "code",
   "execution_count": null,
   "metadata": {},
   "outputs": [],
   "source": [
    "Na_entries = [e for e in entries if e.composition.reduced_formula == \"Li\"]\n",
    "uLi0 = min(Na_entries, key=lambda e: e.energy_per_atom).energy_per_atom"
   ]
  },
  {
   "cell_type": "markdown",
   "metadata": {},
   "source": [
    "##### The *PDAnalyzer* class provides a quick way to plot the phase diagram at a particular composition (e.g., LiAl5O8) as a function of lithium chemical potential called *get_element_profile*."
   ]
  },
  {
   "cell_type": "code",
   "execution_count": null,
   "metadata": {},
   "outputs": [],
   "source": [
    "el_profile = pd.get_element_profile(Element(\"Li\"), entry.composition)\n",
    "for i, d in enumerate(el_profile):\n",
    "    voltage = -(d[\"chempot\"] - uLi0)\n",
    "    print(\"Voltage: %s V\" % voltage)\n",
    "    print(d[\"reaction\"])\n",
    "    print(\"\")"
   ]
  },
  {
   "cell_type": "markdown",
   "metadata": {},
   "source": [
    "This element profile can be plotted as a Li evolution versus voltage using matplotlib as follows."
   ]
  },
  {
   "cell_type": "code",
   "execution_count": null,
   "metadata": {},
   "outputs": [],
   "source": [
    "# Some matplotlib settings to improve the look of the plot.\n",
    "mpl.rcParams['axes.linewidth']=3\n",
    "mpl.rcParams['lines.markeredgewidth']=4\n",
    "mpl.rcParams['lines.linewidth']=3\n",
    "mpl.rcParams['lines.markersize']=15\n",
    "mpl.rcParams['xtick.major.width']=3\n",
    "mpl.rcParams['xtick.major.size']=8\n",
    "mpl.rcParams['xtick.minor.width']=3\n",
    "mpl.rcParams['xtick.minor.size']=4\n",
    "mpl.rcParams['ytick.major.width']=3\n",
    "mpl.rcParams['ytick.major.size']=8\n",
    "mpl.rcParams['ytick.minor.width']=3\n",
    "mpl.rcParams['ytick.minor.size']=4\n",
    "\n",
    "\n",
    "# Plot of Na uptake per formula unit (f.u.) of Na2ZrCl6 against voltage vs Na/Na+.\n",
    "\n",
    "colors = palettable.colorbrewer.qualitative.Set1_9.mpl_colors\n",
    "plt = plty.pretty_plot(12, 8)\n",
    "\n",
    "for i, d in enumerate(el_profile):\n",
    "    v = - (d[\"chempot\"] - uLi0)\n",
    "    if i != 0:\n",
    "        plt.plot([x2, x2], [y1, d[\"evolution\"] / 4.0], 'k', linewidth=3)\n",
    "    x1 = v\n",
    "    y1 = d[\"evolution\"] / 4.0\n",
    "    if i != len(el_profile) - 1:\n",
    "        x2 = - (el_profile[i + 1][\"chempot\"] - uLi0)\n",
    "    else:\n",
    "        x2 = 5.0\n",
    "        \n",
    "    if i in [0, 4, 5, 7]:\n",
    "        products = [re.sub(r\"(\\d+)\", r\"$_{\\1}$\", p.reduced_formula)                     \n",
    "                    for p in d[\"reaction\"].products if p.reduced_formula != \"Li\"]\n",
    "\n",
    "        plt.annotate(\", \".join(products), xy=(v + 0.05, y1 + 0.3), \n",
    "                     fontsize=24, color=colors[0])\n",
    "        \n",
    "        plt.plot([x1, x2], [y1, y1], color=colors[0], linewidth=5)\n",
    "    else:\n",
    "        plt.plot([x1, x2], [y1, y1], 'k', linewidth=3)  \n",
    "\n",
    "plt.xlim((0, 6.0))\n",
    "plt.ylim((-4, 30))\n",
    "plt.xlabel(\"Voltage vs Li/Li$^+$ for Li3InCl6  (V)\")\n",
    "plt.ylabel(\"Li uptake per f.u.\")\n",
    "plt.tight_layout()"
   ]
  },
  {
   "cell_type": "code",
   "execution_count": null,
   "metadata": {},
   "outputs": [],
   "source": []
  },
  {
   "cell_type": "code",
   "execution_count": null,
   "metadata": {},
   "outputs": [],
   "source": []
  },
  {
   "cell_type": "code",
   "execution_count": null,
   "metadata": {},
   "outputs": [],
   "source": []
  }
 ],
 "metadata": {
  "kernelspec": {
   "display_name": "Python 3 (ipykernel)",
   "language": "python",
   "name": "python3"
  },
  "language_info": {
   "codemirror_mode": {
    "name": "ipython",
    "version": 3
   },
   "file_extension": ".py",
   "mimetype": "text/x-python",
   "name": "python",
   "nbconvert_exporter": "python",
   "pygments_lexer": "ipython3",
   "version": "3.8.5"
  }
 },
 "nbformat": 4,
 "nbformat_minor": 1
}
